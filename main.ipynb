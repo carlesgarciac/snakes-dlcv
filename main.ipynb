{
 "cells": [
  {
   "cell_type": "code",
   "execution_count": 192,
   "metadata": {},
   "outputs": [],
   "source": [
    "from __future__ import print_function, division\n",
    "\n",
    "import numpy as np\n",
    "import matplotlib.pyplot as plt\n",
    "\n",
    "import torch\n",
    "import torch.nn as nn\n",
    "import torch.nn.functional as F\n",
    "import torch.optim as optim\n",
    "from torch.optim import lr_scheduler\n",
    "import sklearn\n",
    "from sklearn.model_selection import train_test_split\n",
    "\n",
    "\n",
    "import torchvision\n",
    "from torchvision import datasets, models, transforms\n",
    "\n",
    "import time\n",
    "import io\n",
    "import os\n",
    "import copy\n",
    "import data\n",
    "\n",
    "plt.ion()"
   ]
  },
  {
   "cell_type": "code",
   "execution_count": 193,
   "metadata": {},
   "outputs": [],
   "source": [
    "# Data augmentation and normalization for training\n",
    "# Just normalization for validation\n",
    "data_transforms = transforms.Compose([\n",
    "        transforms.RandomResizedCrop(224),\n",
    "        transforms.RandomHorizontalFlip(),\n",
    "       transforms.ToTensor(),\n",
    "        transforms.Normalize([0.485, 0.456, 0.406], [0.229, 0.224, 0.225])\n",
    "    ])\n",
    "\n",
    "#Loading\n",
    "data_dir = '../datasets/train'\n",
    "\n",
    "data = datasets.ImageFolder(data_dir,data_transforms)\n",
    "data_labels = data.classes\n",
    "num_classes = len(set(data_labels))\n",
    "\n",
    "#Splitting\n",
    "lenTrain = int(len(data)*0.8)\n",
    "lenVal = int(int(len(data)) - lenTrain)\n",
    "lengths = [lenTrain, lenVal]\n",
    "train, val = torch.utils.data.random_split(data, lengths)\n",
    "\n",
    "#Loaders\n",
    "dataloader_train = torch.utils.data.DataLoader(train, batch_size=4,shuffle=True, num_workers=4)\n",
    "dataloader_val = torch.utils.data.DataLoader(val, batch_size=4,shuffle=True, num_workers=4)\n",
    "\n",
    "dataset_sizes_train = len(train)\n",
    "dataset_sizes_val = len(val)\n",
    "\n",
    "\n",
    "device = torch.device(\"cuda:0\" if torch.cuda.is_available() else \"cpu\")"
   ]
  },
  {
   "cell_type": "code",
   "execution_count": 203,
   "metadata": {},
   "outputs": [],
   "source": [
    "def model_results(train_loss, val_loss, title):#, train_acc, val_acc):# train_f1, val_f1):\n",
    "    plt.title(title)\n",
    "    plt.xlabel('Epochs')\n",
    "    plt.ylabel('Loss')\n",
    "    plt.plot(train_loss, 'b-', label='Train')\n",
    "    plt.plot(val_loss, 'r-', label='Validation')\n",
    "    plt.legend(loc='upper right')\n",
    "    plt.show()"
   ]
  },
  {
   "cell_type": "code",
   "execution_count": 195,
   "metadata": {},
   "outputs": [],
   "source": [
    "def train_model(model, criterion, optimizer, scheduler, num_epochs=25):\n",
    "    since = time.time()\n",
    "\n",
    "    best_model_wts = copy.deepcopy(model.state_dict())\n",
    "    best_acc = 0.0\n",
    "    best_f1 = 0.0\n",
    "    \n",
    "    train_loss = []\n",
    "    val_loss = []\n",
    "    train_acc = []\n",
    "    val_acc = []\n",
    "    train_f1 = []\n",
    "    val_f1 = []\n",
    "    \n",
    "    f1 = []\n",
    "\n",
    "    for epoch in range(num_epochs):\n",
    "        print('Epoch {}/{}'.format(epoch, num_epochs - 1))\n",
    "        print('-' * 10)\n",
    "\n",
    "        # Each epoch has a training and validation phase\n",
    "        for phase in ['train', 'val']:\n",
    "            if phase == 'train':\n",
    "                scheduler.step()\n",
    "                model.train()  # Set model to training mode\n",
    "            else:\n",
    "                model.eval()   # Set model to evaluate mode\n",
    "\n",
    "            running_loss = 0.0\n",
    "            running_corrects = 0\n",
    "            running_f1 = 0\n",
    "\n",
    "            # Iterate over data.\n",
    "            if phase == 'train': \n",
    "                for inputs, labels in dataloader_train:\n",
    "                    inputs = inputs.to(device)\n",
    "                    labels = labels.to(device)\n",
    "\n",
    "                    # zero the parameter gradients\n",
    "                    optimizer.zero_grad()\n",
    "\n",
    "                    # forward\n",
    "                    # track history if only in train\n",
    "                    with torch.set_grad_enabled(phase == 'train'):\n",
    "                        outputs = model(inputs)\n",
    "                        _, preds = torch.max(outputs, 1)\n",
    "                        loss = criterion(outputs, labels)\n",
    "\n",
    "                        # backward + optimize only if in training phase\n",
    "                        if phase == 'train':\n",
    "                            loss.backward()\n",
    "                            optimizer.step()\n",
    "\n",
    "                    # statistics\n",
    "                    running_loss += loss.item() * inputs.size(0)\n",
    "                    running_corrects += torch.sum(preds == labels.data)\n",
    "                    #print(labels.data.type())\n",
    "                    #print(preds.type())\n",
    "                    labels_cpu = labels.cpu().numpy()\n",
    "                    predictions_cpu = preds.cpu().numpy()\n",
    "                    running_f1 = sklearn.metrics.f1_score(labels_cpu, predictions_cpu, average='macro')\n",
    "                    f1.append(running_f1)\n",
    "            \n",
    "            if phase == 'val': \n",
    "                for inputs, labels in dataloader_val:\n",
    "                    inputs = inputs.to(device)\n",
    "                    labels = labels.to(device)\n",
    "\n",
    "                    # zero the parameter gradients\n",
    "                    optimizer.zero_grad()\n",
    "\n",
    "                    # forward\n",
    "                    # track history if only in train\n",
    "                    with torch.set_grad_enabled(phase == 'train'):\n",
    "                        outputs = model(inputs)\n",
    "                        _, preds = torch.max(outputs, 1)\n",
    "                        loss = criterion(outputs, labels)\n",
    "\n",
    "                        # backward + optimize only if in training phase\n",
    "                        if phase == 'train':\n",
    "                            loss.backward()\n",
    "                            optimizer.step()\n",
    "\n",
    "                    # statistics\n",
    "                    running_loss += loss.item() * inputs.size(0)\n",
    "                    running_corrects += torch.sum(preds == labels.data)\n",
    "                    \n",
    "                    labels_cpu = labels.cpu().numpy()\n",
    "                    predictions_cpu = preds.cpu().numpy()\n",
    "                    running_f1 = sklearn.metrics.f1_score(labels_cpu, predictions_cpu, average='macro')\n",
    "                    f1.append(running_f1)\n",
    "\n",
    "            \n",
    "            if phase == 'train':\n",
    "                epoch_loss = running_loss / dataset_sizes_train\n",
    "                epoch_acc = running_corrects.double() / dataset_sizes_train\n",
    "                epoch_f1 = np.average(np.array(f1))\n",
    "                \n",
    "                train_loss.append(epoch_loss)\n",
    "                train_acc.append(epoch_acc)\n",
    "                train_f1.append(epoch_f1)\n",
    "                \n",
    "                \n",
    "            if phase == 'val':\n",
    "                epoch_loss = running_loss / dataset_sizes_val\n",
    "                epoch_acc = running_corrects.double() / dataset_sizes_val\n",
    "                epoch_f1 = np.average(np.array(f1))\n",
    "                \n",
    "                val_loss.append(epoch_loss)\n",
    "                val_acc.append(epoch_acc)\n",
    "                val_f1.append(epoch_f1)\n",
    "\n",
    "            print('{} Loss: {:.4f} Acc: {:.4f} F1:{:.4f}'.format(\n",
    "                phase, epoch_loss, epoch_acc, epoch_f1))\n",
    "\n",
    "            # deep copy the model\n",
    "            if phase == 'val' and epoch_acc > best_acc:\n",
    "                best_acc = epoch_acc\n",
    "                best_model_wts = copy.deepcopy(model.state_dict())\n",
    "            \n",
    "            if phase == 'val' and epoch_f1 > best_f1:\n",
    "                best_f1 = epoch_f1\n",
    "\n",
    "        print()\n",
    "        torch.save(model, './models/vgg3_model.pth')\n",
    "\n",
    "    time_elapsed = time.time() - since\n",
    "    print('Training complete in {:.0f}m {:.0f}s'.format(\n",
    "        time_elapsed // 60, time_elapsed % 60))\n",
    "    print('Best val Acc: {:4f}'.format(best_acc))\n",
    "    print('Best val F1: {:4f}'.format(best_f1))\n",
    "\n",
    "    # load best model weights\n",
    "    model.load_state_dict(best_model_wts)\n",
    "    return model, train_loss, val_loss, train_acc, val_acc, train_f1, val_f1"
   ]
  },
  {
   "cell_type": "code",
   "execution_count": 196,
   "metadata": {},
   "outputs": [],
   "source": [
    "model_vgg = models.vgg19_bn(pretrained=True)\n",
    "\n",
    "#for param in model_vgg.parameters():\n",
    "#    param.requires_grad = False\n",
    "\n",
    "model_vgg.classifier[6] = nn.Linear(4096,num_classes)\n",
    "#num_ftrs = model_conv.fc.in_features\n",
    "#model_conv.fc = nn.Linear(num_ftrs, num_classes)\n",
    "\n",
    "model_vgg = model_vgg.to(device)\n",
    "\n",
    "criterion = nn.CrossEntropyLoss()\n",
    "\n",
    "# Observe that all parameters are being optimized\n",
    "optimizer_ft = optim.SGD(model_vgg.parameters(), lr=0.001, momentum=0.9)\n",
    "\n",
    "# Decay LR by a factor of 0.1 every 7 epochs\n",
    "exp_lr_scheduler = lr_scheduler.StepLR(optimizer_ft, step_size=7, gamma=0.1)"
   ]
  },
  {
   "cell_type": "code",
   "execution_count": null,
   "metadata": {},
   "outputs": [],
   "source": [
    "model_vgg, train_loss, val_loss, train_acc, val_acc, train_f1, val_f1 = train_model(model_vgg, criterion, optimizer_ft, exp_lr_scheduler, num_epochs=10)\n",
    "torch.save(model_vgg, './models/vgg3final_model.pth')"
   ]
  },
  {
   "cell_type": "code",
   "execution_count": 205,
   "metadata": {},
   "outputs": [
    {
     "data": {
      "image/png": "[encoded data removed]",
      "text/plain": [
       "<Figure size 432x288 with 1 Axes>"
      ]
     },
     "metadata": {
      "needs_background": "light"
     },
     "output_type": "display_data"
    }
   ],
   "source": [
    "model_results(train_loss, val_loss,'Loss')"
   ]
  },
  {
   "cell_type": "code",
   "execution_count": 204,
   "metadata": {},
   "outputs": [
    {
     "name": "stdout",
     "output_type": "stream",
     "text": [
      "[2.350505995952566, 1.9253804143299267, 1.7407489718891562, 1.6102081557948726, 1.5276977187746488, 1.4556828826377044, 1.204530639180373, 1.1423309449277483, 1.0975841454205686, 1.0703502986796816]\n",
      "1.0703502986796816\n"
     ]
    }
   ],
   "source": [
    "print(train_loss)\n",
    "print(min(train_loss))"
   ]
  },
  {
   "cell_type": "code",
   "execution_count": 206,
   "metadata": {},
   "outputs": [
    {
     "name": "stdout",
     "output_type": "stream",
     "text": [
      "[2.0024331913674756, 1.7487690958748798, 1.6577660863158252, 1.5194908611348057, 1.4655231742047765, 1.4811534589860256, 1.220053252376014, 1.1928059897993237, 1.155701231881271, 1.1113756452188768]\n",
      "1.1113756452188768\n"
     ]
    }
   ],
   "source": [
    "print(val_loss)\n",
    "print(min(val_loss))"
   ]
  },
  {
   "cell_type": "code",
   "execution_count": 215,
   "metadata": {},
   "outputs": [
    {
     "name": "stdout",
     "output_type": "stream",
     "text": [
      "[0.36893513111795306, 0.46921875236983, 0.516433349005809, 0.5484506999529826, 0.5694720397979768, 0.5903872112599154, 0.6550437565407308, 0.6705140066431075, 0.6850439082098494, 0.6892906435320705]\n",
      "0.6892906435320705\n"
     ]
    }
   ],
   "source": [
    "train_acc_def = [float(elem) for elem in train_acc]\n",
    "print(train_acc_def)\n",
    "print(max(train_acc_def))"
   ]
  },
  {
   "cell_type": "code",
   "execution_count": 216,
   "metadata": {},
   "outputs": [
    {
     "name": "stdout",
     "output_type": "stream",
     "text": [
      "[0.4679689395777724, 0.5168041737442368, 0.5447706867265227, 0.58632613443339, 0.5942732346517835, 0.5952438728463965, 0.6599126425624848, 0.665433147294346, 0.6752608590148023, 0.6874545013346275]\n",
      "0.6874545013346275\n"
     ]
    }
   ],
   "source": [
    "val_acc_def = [float(elem) for elem in val_acc]\n",
    "print(val_acc_def)\n",
    "print(max(val_acc_def))"
   ]
  },
  {
   "cell_type": "code",
   "execution_count": 217,
   "metadata": {},
   "outputs": [
    {
     "name": "stdout",
     "output_type": "stream",
     "text": [
      "[0.257132722254962, 0.3056179751237585, 0.3360003804967753, 0.3585419759460935, 0.37720619979097897, 0.3927665805072527, 0.4119698449629791, 0.42989605638234607, 0.44538094879183204, 0.45834457019192737]\n",
      "0.45834457019192737\n"
     ]
    }
   ],
   "source": [
    "print(train_f1)\n",
    "print(max(train_f1))"
   ]
  },
  {
   "cell_type": "code",
   "execution_count": 218,
   "metadata": {},
   "outputs": [
    {
     "name": "stdout",
     "output_type": "stream",
     "text": [
      "[0.27438664910273747, 0.3140727516437295, 0.34148105779020604, 0.3636569997650439, 0.38094401497556074, 0.3953716767518029, 0.4157129458594082, 0.4328166562669717, 0.44790555065528775, 0.46065037958886534]\n",
      "0.46065037958886534\n"
     ]
    }
   ],
   "source": [
    "print(val_f1)\n",
    "print(max(val_f1))"
   ]
  },
  {
   "cell_type": "code",
   "execution_count": 219,
   "metadata": {},
   "outputs": [
    {
     "data": {
      "image/png": "[encoded data removed]",
      "text/plain": [
       "<Figure size 432x288 with 1 Axes>"
      ]
     },
     "metadata": {
      "needs_background": "light"
     },
     "output_type": "display_data"
    }
   ],
   "source": [
    "model_results(train_acc_def, val_acc_def,'Acc')"
   ]
  },
  {
   "cell_type": "code",
   "execution_count": 220,
   "metadata": {},
   "outputs": [
    {
     "data": {
      "image/png": "[encoded data removed]",
      "text/plain": [
       "<Figure size 432x288 with 1 Axes>"
      ]
     },
     "metadata": {
      "needs_background": "light"
     },
     "output_type": "display_data"
    }
   ],
   "source": [
    "model_results(train_f1, val_f1,'Fscore')"
   ]
  },
  {
   "cell_type": "code",
   "execution_count": null,
   "metadata": {},
   "outputs": [],
   "source": []
  }
 ],
 "metadata": {
  "kernelspec": {
   "display_name": "Python 3",
   "language": "python",
   "name": "python3"
  },
  "language_info": {
   "codemirror_mode": {
    "name": "ipython",
    "version": 3
   },
   "file_extension": ".py",
   "mimetype": "text/x-python",
   "name": "python",
   "nbconvert_exporter": "python",
   "pygments_lexer": "ipython3",
   "version": "3.7.0"
  }
 },
 "nbformat": 4,
 "nbformat_minor": 2
}
